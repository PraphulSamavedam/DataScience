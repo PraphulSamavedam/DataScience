{
 "cells": [
  {
   "cell_type": "markdown",
   "metadata": {},
   "source": [
    "Naive bayes are used in classification data modelling. From the [scikit-learn](https://scikit-learn.org/stable/modules/naive_bayes.html)    \n",
    "Follow the GaussianNB example to know more."
   ]
  },
  {
   "cell_type": "code",
   "execution_count": 1,
   "metadata": {},
   "outputs": [],
   "source": [
    "from sklearn.naive_bayes import GaussianNB\n",
    "from sklearn.datasets import load_iris\n",
    "from sklearn.model_selection import train_test_split"
   ]
  },
  {
   "cell_type": "code",
   "execution_count": 2,
   "metadata": {},
   "outputs": [],
   "source": [
    "X,Y = load_iris(return_X_y=True)"
   ]
  },
  {
   "cell_type": "markdown",
   "metadata": {},
   "source": [
    "Iris data is perfect example for Classification data set.    \n",
    "More details on the dataset -> https://scikit-learn.org/stable/modules/generated/sklearn.datasets.load_iris.html"
   ]
  },
  {
   "cell_type": "code",
   "execution_count": 3,
   "metadata": {},
   "outputs": [],
   "source": [
    "X_train, X_test, Y_train, Y_test = train_test_split(X,Y,test_size=0.2,random_state=1)"
   ]
  },
  {
   "cell_type": "code",
   "execution_count": 4,
   "metadata": {},
   "outputs": [],
   "source": [
    "# print(\"X_train:{0}\\n Y_train:\\n{1} X_test={2}\\n Y_test:{3}\\n\".format(X_train, Y_train,X_test, Y_test))\n",
    "gnb = GaussianNB()\n",
    "model = gnb.fit(X_train,Y_train)\n",
    "Y_pred = model.predict(X_test)"
   ]
  },
  {
   "cell_type": "code",
   "execution_count": 5,
   "metadata": {},
   "outputs": [
    {
     "name": "stdout",
     "output_type": "stream",
     "text": [
      "Number of mislabeled points out of a total 30 points : 1\n",
      "Accuracy:29/30 = 0.9666666666666667\n"
     ]
    }
   ],
   "source": [
    "print(\"Number of mislabeled points out of a total {0} points : {1}\".format(X_test.shape[0], (Y_test != Y_pred).sum()))\n",
    "print(\"Accuracy:{1}/{0} = {2}\".format(X_test.shape[0],(Y_test == Y_pred).sum(),(Y_test == Y_pred).sum()/X_test.shape[0]))\n",
    "# Number of mislabeled points out of a total 75 points : 4"
   ]
  },
  {
   "cell_type": "markdown",
   "metadata": {},
   "source": [
    "Accuracy score can also be calculated from the sklearn as below:"
   ]
  },
  {
   "cell_type": "code",
   "execution_count": 6,
   "metadata": {},
   "outputs": [
    {
     "name": "stdout",
     "output_type": "stream",
     "text": [
      "0.9666666666666667\n"
     ]
    }
   ],
   "source": [
    "from sklearn.metrics import accuracy_score\n",
    "print(accuracy_score(Y_test, Y_pred))"
   ]
  },
  {
   "cell_type": "code",
   "execution_count": 9,
   "metadata": {},
   "outputs": [
    {
     "name": "stdout",
     "output_type": "stream",
     "text": [
      "Accuracy for test_size of 0.1 = 1.0\n",
      "Accuracy for test_size of 0.2 = 1.0\n",
      "Accuracy for test_size of 0.3 = 0.9333333333333333\n",
      "Accuracy for test_size of 0.4 = 0.95\n",
      "Accuracy for test_size of 0.5 = 0.9466666666666667\n",
      "Accuracy for test_size of 0.6 = 0.9555555555555556\n",
      "Accuracy for test_size of 0.7 = 0.9238095238095239\n",
      "Accuracy for test_size of 0.8 = 0.9333333333333333\n",
      "Accuracy for test_size of 0.9 = 0.6444444444444445\n"
     ]
    }
   ],
   "source": [
    "for val in range(1,10,1):\n",
    "#     print(val/10)\n",
    "    X_train, X_test, Y_train, Y_test = train_test_split(X,Y,test_size=val/10,random_state=80)\n",
    "    classifier_model = GaussianNB()\n",
    "    classifier_model.fit(X_train, Y_train)\n",
    "    Y_pred = classifier_model.predict(X_test)\n",
    "    print(\"Accuracy for test_size of {0} = {1}\".format(val/10,accuracy_score(Y_test, Y_pred)))"
   ]
  },
  {
   "cell_type": "code",
   "execution_count": null,
   "metadata": {},
   "outputs": [],
   "source": []
  },
  {
   "cell_type": "code",
   "execution_count": null,
   "metadata": {},
   "outputs": [],
   "source": []
  }
 ],
 "metadata": {
  "kernelspec": {
   "display_name": "Python 3",
   "language": "python",
   "name": "python3"
  },
  "language_info": {
   "codemirror_mode": {
    "name": "ipython",
    "version": 3
   },
   "file_extension": ".py",
   "mimetype": "text/x-python",
   "name": "python",
   "nbconvert_exporter": "python",
   "pygments_lexer": "ipython3",
   "version": "3.8.5"
  }
 },
 "nbformat": 4,
 "nbformat_minor": 4
}
